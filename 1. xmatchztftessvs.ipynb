{
 "cells": [
  {
   "cell_type": "code",
   "execution_count": 1,
   "metadata": {
    "execution": {
     "iopub.execute_input": "2025-02-16T02:02:26.640785Z",
     "iopub.status.busy": "2025-02-16T02:02:26.640635Z",
     "iopub.status.idle": "2025-02-16T02:02:26.650964Z",
     "shell.execute_reply": "2025-02-16T02:02:26.649323Z",
     "shell.execute_reply.started": "2025-02-16T02:02:26.640775Z"
    }
   },
   "outputs": [],
   "source": [
    "# !pip install wget"
   ]
  },
  {
   "cell_type": "code",
   "execution_count": 2,
   "metadata": {
    "execution": {
     "iopub.execute_input": "2025-02-16T02:02:26.662720Z",
     "iopub.status.busy": "2025-02-16T02:02:26.656742Z",
     "iopub.status.idle": "2025-02-16T02:02:27.546656Z",
     "shell.execute_reply": "2025-02-16T02:02:27.546297Z",
     "shell.execute_reply.started": "2025-02-16T02:02:26.662672Z"
    }
   },
   "outputs": [],
   "source": [
    "import os\n",
    "import shutil\n",
    "import wget\n",
    "import pandas as pd\n",
    "from tqdm.notebook import tqdm\n",
    "from astropy.table import Table\n",
    "from astropy.coordinates import SkyCoord, match_coordinates_sky\n",
    "import astropy.units as u"
   ]
  },
  {
   "cell_type": "code",
   "execution_count": 3,
   "metadata": {
    "execution": {
     "iopub.execute_input": "2025-02-16T02:02:27.558590Z",
     "iopub.status.busy": "2025-02-16T02:02:27.558415Z",
     "iopub.status.idle": "2025-02-16T02:02:30.801509Z",
     "shell.execute_reply": "2025-02-16T02:02:30.801183Z",
     "shell.execute_reply.started": "2025-02-16T02:02:27.558576Z"
    }
   },
   "outputs": [],
   "source": [
    "pddf_tess = pd.read_csv(\"https://archive.stsci.edu/hlsps/tess-svc/hlsp_tess-svc_tess_lcf_all-s0001-s0026_tess_v1.0_cat.csv\", index_col=0)\n",
    "pddf_tess = pddf_tess.loc[:,[\"ra\",\"dec\"]]\n",
    "pddf_tess.index.name = \"tess_id\"\n",
    "df_tess = Table.from_pandas(pddf_tess.loc[:,[\"ra\",\"dec\"]])\n",
    "coords_tess = SkyCoord(ra=df_tess['ra']*u.degree, dec=df_tess['dec']*u.degree)\n",
    "\n",
    "os.mkdir(\"radeccsvs/\")\n",
    "os.mkdir(\"xmatchcsvs/\")"
   ]
  },
  {
   "cell_type": "code",
   "execution_count": 4,
   "metadata": {
    "execution": {
     "iopub.execute_input": "2025-02-16T02:02:36.029150Z",
     "iopub.status.busy": "2025-02-16T02:02:36.027994Z",
     "iopub.status.idle": "2025-02-16T02:02:36.037793Z",
     "shell.execute_reply": "2025-02-16T02:02:36.036636Z",
     "shell.execute_reply.started": "2025-02-16T02:02:36.029109Z"
    }
   },
   "outputs": [],
   "source": [
    "# urls = [\"https://zenodo.org/records/14155156/files/24_23_prediction_xgb_dnn_fields.zip\"]\n",
    "urls = []\n",
    "for i in range(24):\n",
    "    if i==16:\n",
    "        print(\"SOME ERROR WITH 17_16, so skipping that\")\n",
    "        continue\n",
    "    url = f\"https://zenodo.org/records/14155156/files/{(i+1):02d}_{i:02d}_prediction_xgb_dnn_fields.zip\"\n",
    "    urls.append(url)"
   ]
  },
  {
   "cell_type": "code",
   "execution_count": 5,
   "metadata": {
    "execution": {
     "iopub.execute_input": "2025-02-16T02:02:38.689689Z",
     "iopub.status.busy": "2025-02-16T02:02:38.688636Z",
     "iopub.status.idle": "2025-02-16T02:02:38.698480Z",
     "shell.execute_reply": "2025-02-16T02:02:38.697210Z",
     "shell.execute_reply.started": "2025-02-16T02:02:38.689636Z"
    }
   },
   "outputs": [],
   "source": [
    "for url in tqdm(urls, desc=\"URLs\"):\n",
    "    fn = wget.download(url)\n",
    "    shutil.unpack_archive(fn, \".\")\n",
    "    os.remove(fn)\n",
    "    dirname = fn.split(\".zip\")[0]\n",
    "\n",
    "    for file in tqdm(os.listdir(dirname), desc=\"Reading and saving RADEC\"):\n",
    "        pddf_ztf = pd.read_csv(os.path.join(dirname,file), index_col=0)\n",
    "        pddf_ztf = pddf_ztf.loc[:,[\"ra\",\"dec\"]]\n",
    "        pddf_ztf.index.name = \"ztf_id\"\n",
    "        pddf_ztf.to_csv(os.path.join(\"radeccsvs\",file))\n",
    "\n",
    "    shutil.rmtree(dirname)"
   ]
  },
  {
   "cell_type": "code",
   "execution_count": 6,
   "metadata": {
    "execution": {
     "iopub.execute_input": "2025-02-16T02:02:45.049513Z",
     "iopub.status.busy": "2025-02-16T02:02:45.048834Z",
     "iopub.status.idle": "2025-02-16T02:07:45.181615Z",
     "shell.execute_reply": "2025-02-16T02:07:45.180944Z",
     "shell.execute_reply.started": "2025-02-16T02:02:45.049475Z"
    }
   },
   "outputs": [
    {
     "data": {
      "application/vnd.jupyter.widget-view+json": {
       "model_id": "39d7ea66c52e4e1fae33a87f594c372d",
       "version_major": 2,
       "version_minor": 0
      },
      "text/plain": [
       "x-match:   0%|          | 0/204 [00:00<?, ?it/s]"
      ]
     },
     "metadata": {},
     "output_type": "display_data"
    }
   ],
   "source": [
    "for file in tqdm(os.listdir(\"radeccsvs\"), desc=\"x-match\"):\n",
    "    pddf_ztf = pd.read_csv(os.path.join(\"radeccsvs\",file), index_col=0)\n",
    "    df_ztf = Table.from_pandas(pddf_ztf.loc[:,[\"ra\",\"dec\"]])\n",
    "    coords_ztf = SkyCoord(ra=df_ztf['ra']*u.degree, dec=df_ztf['dec']*u.degree)\n",
    "    # Perform the cross-match\n",
    "    idx, d2d, d3d = match_coordinates_sky(coords_tess, coords_ztf)\n",
    "    # Set a maximum separation threshold (e.g., 2 arcseconds)\n",
    "    max_sep = 30 * u.arcsec\n",
    "    mask = d2d < max_sep\n",
    "\n",
    "    matched_data = pd.DataFrame({\n",
    "        'ztf_id': pddf_ztf.index[idx[mask]],\n",
    "        'tess_id': pddf_tess.index[mask],\n",
    "        'ztf_ra': pddf_ztf.loc[:, 'ra'].values[idx[mask]],\n",
    "        'tess_ra': pddf_tess.loc[:, 'ra'].values[mask],\n",
    "        'ztf_dec': pddf_ztf.loc[:, 'dec'].values[idx[mask]],\n",
    "        'tess_dec': pddf_tess.loc[:, 'dec'].values[mask],\n",
    "        'separation_arcsec': d2d[mask].to_value(u.arcsec)\n",
    "    })\n",
    "    \n",
    "    matched_data.to_csv(os.path.join(\"xmatchcsvs\",file),index=False)"
   ]
  }
 ],
 "metadata": {
  "kaggle": {
   "accelerator": "none",
   "dataSources": [],
   "dockerImageVersionId": 30886,
   "isGpuEnabled": false,
   "isInternetEnabled": true,
   "language": "python",
   "sourceType": "notebook"
  },
  "kernelspec": {
   "display_name": "Python 3 (ipykernel)",
   "language": "python",
   "name": "python3"
  },
  "language_info": {
   "codemirror_mode": {
    "name": "ipython",
    "version": 3
   },
   "file_extension": ".py",
   "mimetype": "text/x-python",
   "name": "python",
   "nbconvert_exporter": "python",
   "pygments_lexer": "ipython3",
   "version": "3.12.4"
  }
 },
 "nbformat": 4,
 "nbformat_minor": 4
}
