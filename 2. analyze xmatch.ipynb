{
 "cells": [
  {
   "cell_type": "code",
   "execution_count": 1,
   "id": "790d18ba-106a-441f-acc0-9977659b1617",
   "metadata": {
    "execution": {
     "iopub.execute_input": "2025-02-16T02:27:09.703607Z",
     "iopub.status.busy": "2025-02-16T02:27:09.702890Z",
     "iopub.status.idle": "2025-02-16T02:27:10.082558Z",
     "shell.execute_reply": "2025-02-16T02:27:10.082285Z",
     "shell.execute_reply.started": "2025-02-16T02:27:09.703569Z"
    }
   },
   "outputs": [],
   "source": [
    "import pandas as pd\n",
    "import os"
   ]
  },
  {
   "cell_type": "code",
   "execution_count": 2,
   "id": "0e9cb3ed-cb06-4ba7-8c85-d6dffed15f78",
   "metadata": {
    "execution": {
     "iopub.execute_input": "2025-02-16T02:27:10.085928Z",
     "iopub.status.busy": "2025-02-16T02:27:10.085827Z",
     "iopub.status.idle": "2025-02-16T02:27:10.194188Z",
     "shell.execute_reply": "2025-02-16T02:27:10.193931Z",
     "shell.execute_reply.started": "2025-02-16T02:27:10.085920Z"
    }
   },
   "outputs": [],
   "source": [
    "bigdf = []\n",
    "for file in os.listdir(\"xmatchcsvs\"):\n",
    "    if file.endswith(\".csv\"):\n",
    "        df = pd.read_csv(os.path.join(\"xmatchcsvs\", file))\n",
    "        bigdf.append(df)"
   ]
  },
  {
   "cell_type": "code",
   "execution_count": 3,
   "id": "49a28a97-79e9-40e4-adc8-d684b7ed103e",
   "metadata": {
    "execution": {
     "iopub.execute_input": "2025-02-16T02:27:10.195337Z",
     "iopub.status.busy": "2025-02-16T02:27:10.195231Z",
     "iopub.status.idle": "2025-02-16T02:27:10.204673Z",
     "shell.execute_reply": "2025-02-16T02:27:10.204220Z",
     "shell.execute_reply.started": "2025-02-16T02:27:10.195328Z"
    }
   },
   "outputs": [
    {
     "name": "stderr",
     "output_type": "stream",
     "text": [
      "/var/folders/2d/ht34x6mn7hx9d1sv4g_j8nfr0000gn/T/ipykernel_62708/3921118550.py:1: FutureWarning: The behavior of DataFrame concatenation with empty or all-NA entries is deprecated. In a future version, this will no longer exclude empty or all-NA columns when determining the result dtypes. To retain the old behavior, exclude the relevant entries before the concat operation.\n",
      "  bigdf = pd.concat(bigdf)\n"
     ]
    }
   ],
   "source": [
    "bigdf = pd.concat(bigdf)"
   ]
  },
  {
   "cell_type": "code",
   "execution_count": 4,
   "id": "d47e7ebf-d037-41f9-8a8e-f647b02551fe",
   "metadata": {
    "execution": {
     "iopub.execute_input": "2025-02-16T02:27:10.205694Z",
     "iopub.status.busy": "2025-02-16T02:27:10.205591Z",
     "iopub.status.idle": "2025-02-16T02:27:10.208987Z",
     "shell.execute_reply": "2025-02-16T02:27:10.208357Z",
     "shell.execute_reply.started": "2025-02-16T02:27:10.205686Z"
    }
   },
   "outputs": [],
   "source": [
    "bigdf = bigdf.reset_index(drop=True)"
   ]
  },
  {
   "cell_type": "code",
   "execution_count": 5,
   "id": "3cf3a431-9454-45d9-ba11-9fbcaf8f3c4c",
   "metadata": {
    "execution": {
     "iopub.execute_input": "2025-02-16T02:27:10.212724Z",
     "iopub.status.busy": "2025-02-16T02:27:10.212012Z",
     "iopub.status.idle": "2025-02-16T02:27:10.225866Z",
     "shell.execute_reply": "2025-02-16T02:27:10.225471Z",
     "shell.execute_reply.started": "2025-02-16T02:27:10.212644Z"
    }
   },
   "outputs": [
    {
     "data": {
      "text/html": [
       "<div>\n",
       "<style scoped>\n",
       "    .dataframe tbody tr th:only-of-type {\n",
       "        vertical-align: middle;\n",
       "    }\n",
       "\n",
       "    .dataframe tbody tr th {\n",
       "        vertical-align: top;\n",
       "    }\n",
       "\n",
       "    .dataframe thead th {\n",
       "        text-align: right;\n",
       "    }\n",
       "</style>\n",
       "<table border=\"1\" class=\"dataframe\">\n",
       "  <thead>\n",
       "    <tr style=\"text-align: right;\">\n",
       "      <th></th>\n",
       "      <th>ztf_id</th>\n",
       "      <th>tess_id</th>\n",
       "      <th>ztf_ra</th>\n",
       "      <th>tess_ra</th>\n",
       "      <th>ztf_dec</th>\n",
       "      <th>tess_dec</th>\n",
       "      <th>separation_arcsec</th>\n",
       "    </tr>\n",
       "  </thead>\n",
       "  <tbody>\n",
       "    <tr>\n",
       "      <th>0</th>\n",
       "      <td>10298331001539</td>\n",
       "      <td>290172285</td>\n",
       "      <td>32.277978</td>\n",
       "      <td>32.277876</td>\n",
       "      <td>-15.595319</td>\n",
       "      <td>-15.595305</td>\n",
       "      <td>0.357691</td>\n",
       "    </tr>\n",
       "    <tr>\n",
       "      <th>2</th>\n",
       "      <td>10298461004268</td>\n",
       "      <td>212375873</td>\n",
       "      <td>26.714095</td>\n",
       "      <td>26.713810</td>\n",
       "      <td>-16.872369</td>\n",
       "      <td>-16.872455</td>\n",
       "      <td>1.027720</td>\n",
       "    </tr>\n",
       "    <tr>\n",
       "      <th>4</th>\n",
       "      <td>10298581014112</td>\n",
       "      <td>92993104</td>\n",
       "      <td>28.461702</td>\n",
       "      <td>28.461896</td>\n",
       "      <td>-14.997383</td>\n",
       "      <td>-14.997466</td>\n",
       "      <td>0.738507</td>\n",
       "    </tr>\n",
       "    <tr>\n",
       "      <th>6</th>\n",
       "      <td>10298482008714</td>\n",
       "      <td>302438166</td>\n",
       "      <td>33.466838</td>\n",
       "      <td>33.466757</td>\n",
       "      <td>-13.618149</td>\n",
       "      <td>-13.617856</td>\n",
       "      <td>1.092186</td>\n",
       "    </tr>\n",
       "    <tr>\n",
       "      <th>13</th>\n",
       "      <td>10298091000774</td>\n",
       "      <td>266680031</td>\n",
       "      <td>28.129023</td>\n",
       "      <td>28.128977</td>\n",
       "      <td>-19.217607</td>\n",
       "      <td>-19.217620</td>\n",
       "      <td>0.163053</td>\n",
       "    </tr>\n",
       "    <tr>\n",
       "      <th>...</th>\n",
       "      <td>...</td>\n",
       "      <td>...</td>\n",
       "      <td>...</td>\n",
       "      <td>...</td>\n",
       "      <td>...</td>\n",
       "      <td>...</td>\n",
       "      <td>...</td>\n",
       "    </tr>\n",
       "    <tr>\n",
       "      <th>6843</th>\n",
       "      <td>10652471005754</td>\n",
       "      <td>85342617</td>\n",
       "      <td>28.901163</td>\n",
       "      <td>28.901331</td>\n",
       "      <td>33.568495</td>\n",
       "      <td>33.568660</td>\n",
       "      <td>0.778803</td>\n",
       "    </tr>\n",
       "    <tr>\n",
       "      <th>6849</th>\n",
       "      <td>10295192008032</td>\n",
       "      <td>369394619</td>\n",
       "      <td>12.111507</td>\n",
       "      <td>12.111117</td>\n",
       "      <td>-18.789242</td>\n",
       "      <td>-18.789005</td>\n",
       "      <td>1.577601</td>\n",
       "    </tr>\n",
       "    <tr>\n",
       "      <th>6852</th>\n",
       "      <td>10295611014642</td>\n",
       "      <td>406351523</td>\n",
       "      <td>5.176892</td>\n",
       "      <td>5.176754</td>\n",
       "      <td>-14.115316</td>\n",
       "      <td>-14.115369</td>\n",
       "      <td>0.518172</td>\n",
       "    </tr>\n",
       "    <tr>\n",
       "      <th>6853</th>\n",
       "      <td>10295432006782</td>\n",
       "      <td>423662790</td>\n",
       "      <td>7.946674</td>\n",
       "      <td>7.946309</td>\n",
       "      <td>-16.774603</td>\n",
       "      <td>-16.774221</td>\n",
       "      <td>1.865472</td>\n",
       "    </tr>\n",
       "    <tr>\n",
       "      <th>6854</th>\n",
       "      <td>10295041004718</td>\n",
       "      <td>27999800</td>\n",
       "      <td>10.588131</td>\n",
       "      <td>10.588204</td>\n",
       "      <td>-19.397134</td>\n",
       "      <td>-19.397103</td>\n",
       "      <td>0.272459</td>\n",
       "    </tr>\n",
       "  </tbody>\n",
       "</table>\n",
       "<p>1960 rows × 7 columns</p>\n",
       "</div>"
      ],
      "text/plain": [
       "              ztf_id    tess_id     ztf_ra    tess_ra    ztf_dec   tess_dec  \\\n",
       "0     10298331001539  290172285  32.277978  32.277876 -15.595319 -15.595305   \n",
       "2     10298461004268  212375873  26.714095  26.713810 -16.872369 -16.872455   \n",
       "4     10298581014112   92993104  28.461702  28.461896 -14.997383 -14.997466   \n",
       "6     10298482008714  302438166  33.466838  33.466757 -13.618149 -13.617856   \n",
       "13    10298091000774  266680031  28.129023  28.128977 -19.217607 -19.217620   \n",
       "...              ...        ...        ...        ...        ...        ...   \n",
       "6843  10652471005754   85342617  28.901163  28.901331  33.568495  33.568660   \n",
       "6849  10295192008032  369394619  12.111507  12.111117 -18.789242 -18.789005   \n",
       "6852  10295611014642  406351523   5.176892   5.176754 -14.115316 -14.115369   \n",
       "6853  10295432006782  423662790   7.946674   7.946309 -16.774603 -16.774221   \n",
       "6854  10295041004718   27999800  10.588131  10.588204 -19.397134 -19.397103   \n",
       "\n",
       "      separation_arcsec  \n",
       "0              0.357691  \n",
       "2              1.027720  \n",
       "4              0.738507  \n",
       "6              1.092186  \n",
       "13             0.163053  \n",
       "...                 ...  \n",
       "6843           0.778803  \n",
       "6849           1.577601  \n",
       "6852           0.518172  \n",
       "6853           1.865472  \n",
       "6854           0.272459  \n",
       "\n",
       "[1960 rows x 7 columns]"
      ]
     },
     "execution_count": 5,
     "metadata": {},
     "output_type": "execute_result"
    }
   ],
   "source": [
    "bigdf[bigdf[\"separation_arcsec\"] < 2]"
   ]
  },
  {
   "cell_type": "code",
   "execution_count": 6,
   "id": "39df9861-c478-4ddc-abf1-d4af295c4978",
   "metadata": {
    "execution": {
     "iopub.execute_input": "2025-02-16T02:27:23.358371Z",
     "iopub.status.busy": "2025-02-16T02:27:23.356649Z",
     "iopub.status.idle": "2025-02-16T02:27:23.414092Z",
     "shell.execute_reply": "2025-02-16T02:27:23.413553Z",
     "shell.execute_reply.started": "2025-02-16T02:27:23.358311Z"
    }
   },
   "outputs": [],
   "source": [
    "bigdf.to_csv(\"allxmatch.csv\",index=False)"
   ]
  }
 ],
 "metadata": {
  "kernelspec": {
   "display_name": "Python 3 (ipykernel)",
   "language": "python",
   "name": "python3"
  },
  "language_info": {
   "codemirror_mode": {
    "name": "ipython",
    "version": 3
   },
   "file_extension": ".py",
   "mimetype": "text/x-python",
   "name": "python",
   "nbconvert_exporter": "python",
   "pygments_lexer": "ipython3",
   "version": "3.12.4"
  }
 },
 "nbformat": 4,
 "nbformat_minor": 5
}
